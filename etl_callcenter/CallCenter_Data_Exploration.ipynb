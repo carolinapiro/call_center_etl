{
 "cells": [
  {
   "cell_type": "markdown",
   "metadata": {},
   "source": [
    "# Análisis Exploratorio de las Fuentes de Datos"
   ]
  },
  {
   "cell_type": "markdown",
   "metadata": {},
   "source": [
    "## Imports"
   ]
  },
  {
   "cell_type": "code",
   "execution_count": 72,
   "metadata": {},
   "outputs": [],
   "source": [
    "import pandas as pd"
   ]
  },
  {
   "cell_type": "markdown",
   "metadata": {},
   "source": [
    "## Funciones auxiliares"
   ]
  },
  {
   "cell_type": "code",
   "execution_count": 2,
   "metadata": {},
   "outputs": [],
   "source": [
    "def initial_eda(df):\n",
    "\n",
    "    # Validar el tipo de dato del parámetro de entrada\n",
    "    if isinstance(df, pd.DataFrame):\n",
    "\n",
    "        # Shape\n",
    "        print(\"Dimensiones : %d filas, %d columnas\" % (df.shape[0], df.shape[1]))\n",
    "        # Valores NA totales\n",
    "        print(\"Valores NA Totales : %d \" % (df.isna().sum().sum()))\n",
    "\n",
    "        # Por cada columna: tipo de dato, cant. de valores distintos y cant. de valores NA\n",
    "        print(\"%38s %10s     %10s %10s\" % (\"Columna\", \"Tipo de Datos\", \"Valores Distintos\", \"Valores NA\"))\n",
    "        for i in range(len(df.columns)):\n",
    "            print(\"%38s %10s   %10s %10s\" % (df.columns[i], \n",
    "                                             df.dtypes.iloc[i], \n",
    "                                             df.nunique().iloc[i], \n",
    "                                             df.isna().sum().iloc[i]))\n",
    "        \n",
    "    else:\n",
    "        print(\"Se esperaba un Dataframe pero se recibió un %15s\" % (type(df)))"
   ]
  },
  {
   "cell_type": "markdown",
   "metadata": {},
   "source": [
    "## Análisis Exploratorio por Dataset"
   ]
  },
  {
   "cell_type": "markdown",
   "metadata": {},
   "source": [
    "### Logins"
   ]
  },
  {
   "cell_type": "markdown",
   "metadata": {},
   "source": [
    "#### Leer Datos"
   ]
  },
  {
   "cell_type": "code",
   "execution_count": 74,
   "metadata": {},
   "outputs": [
    {
     "data": {
      "text/html": [
       "<div>\n",
       "<style scoped>\n",
       "    .dataframe tbody tr th:only-of-type {\n",
       "        vertical-align: middle;\n",
       "    }\n",
       "\n",
       "    .dataframe tbody tr th {\n",
       "        vertical-align: top;\n",
       "    }\n",
       "\n",
       "    .dataframe thead th {\n",
       "        text-align: right;\n",
       "    }\n",
       "</style>\n",
       "<table border=\"1\" class=\"dataframe\">\n",
       "  <thead>\n",
       "    <tr style=\"text-align: right;\">\n",
       "      <th></th>\n",
       "      <th>callid</th>\n",
       "      <th>customerid</th>\n",
       "      <th>logindate</th>\n",
       "      <th>channel</th>\n",
       "    </tr>\n",
       "  </thead>\n",
       "  <tbody>\n",
       "    <tr>\n",
       "      <th>0</th>\n",
       "      <td>708</td>\n",
       "      <td>1133466</td>\n",
       "      <td>8/25/2023 15:32:00</td>\n",
       "      <td>1</td>\n",
       "    </tr>\n",
       "    <tr>\n",
       "      <th>1</th>\n",
       "      <td>709</td>\n",
       "      <td>1133466</td>\n",
       "      <td>8/25/2023 15:26:49</td>\n",
       "      <td>2</td>\n",
       "    </tr>\n",
       "    <tr>\n",
       "      <th>2</th>\n",
       "      <td>799</td>\n",
       "      <td>1163726</td>\n",
       "      <td>7/28/2023 14:08:44</td>\n",
       "      <td>2</td>\n",
       "    </tr>\n",
       "    <tr>\n",
       "      <th>3</th>\n",
       "      <td>804</td>\n",
       "      <td>1164064</td>\n",
       "      <td>7/27/2023 10:32:28</td>\n",
       "      <td>1</td>\n",
       "    </tr>\n",
       "    <tr>\n",
       "      <th>4</th>\n",
       "      <td>805</td>\n",
       "      <td>1164338</td>\n",
       "      <td>8/25/2023 12:44:02</td>\n",
       "      <td>2</td>\n",
       "    </tr>\n",
       "  </tbody>\n",
       "</table>\n",
       "</div>"
      ],
      "text/plain": [
       "   callid  customerid           logindate  channel\n",
       "0     708     1133466  8/25/2023 15:32:00        1\n",
       "1     709     1133466  8/25/2023 15:26:49        2\n",
       "2     799     1163726  7/28/2023 14:08:44        2\n",
       "3     804     1164064  7/27/2023 10:32:28        1\n",
       "4     805     1164338  8/25/2023 12:44:02        2"
      ]
     },
     "metadata": {},
     "output_type": "display_data"
    }
   ],
   "source": [
    "logins_data_df = pd.read_json('../source_files/logins_2024.json')\n",
    "\n",
    "display(logins_data_df.head())"
   ]
  },
  {
   "cell_type": "markdown",
   "metadata": {},
   "source": [
    "#### Análisis de Valores"
   ]
  },
  {
   "cell_type": "code",
   "execution_count": 75,
   "metadata": {},
   "outputs": [
    {
     "name": "stdout",
     "output_type": "stream",
     "text": [
      "Dimensiones : 129 filas, 4 columnas\n",
      "Valores NA Totales : 0 \n",
      "                               Columna Tipo de Datos     Valores Distintos Valores NA\n",
      "                                callid      int64          129          0\n",
      "                            customerid      int64          109          0\n",
      "                             logindate     object          128          0\n",
      "                               channel      int64            2          0\n"
     ]
    }
   ],
   "source": [
    "initial_eda(logins_data_df)"
   ]
  },
  {
   "cell_type": "markdown",
   "metadata": {},
   "source": [
    "Conclusiones:\n",
    "- No hay valores faltantes en ninguna de las columnas\n",
    "- La columna \"callid\" tiene valores únicos, por lo cual podemos utilizarla como clave primaria para este dataset.\n",
    "\n",
    "*Todas las claves primarias que se propuestas y utilizadas luego del análisis de los datos fuente deben ser validadas por los stakeholders del negocio* "
   ]
  },
  {
   "cell_type": "markdown",
   "metadata": {},
   "source": [
    "### Llamadas"
   ]
  },
  {
   "cell_type": "markdown",
   "metadata": {},
   "source": [
    "#### Leer Datos"
   ]
  },
  {
   "cell_type": "code",
   "execution_count": 95,
   "metadata": {},
   "outputs": [
    {
     "data": {
      "text/html": [
       "<div>\n",
       "<style scoped>\n",
       "    .dataframe tbody tr th:only-of-type {\n",
       "        vertical-align: middle;\n",
       "    }\n",
       "\n",
       "    .dataframe tbody tr th {\n",
       "        vertical-align: top;\n",
       "    }\n",
       "\n",
       "    .dataframe thead th {\n",
       "        text-align: right;\n",
       "    }\n",
       "</style>\n",
       "<table border=\"1\" class=\"dataframe\">\n",
       "  <thead>\n",
       "    <tr style=\"text-align: right;\">\n",
       "      <th></th>\n",
       "      <th>Fecha</th>\n",
       "      <th>IDCliente</th>\n",
       "      <th>Campania</th>\n",
       "      <th>Telefono</th>\n",
       "      <th>Agente</th>\n",
       "      <th>Tiempohablado</th>\n",
       "      <th>Tiempototal</th>\n",
       "    </tr>\n",
       "  </thead>\n",
       "  <tbody>\n",
       "    <tr>\n",
       "      <th>0</th>\n",
       "      <td>6/27/2023 13:22</td>\n",
       "      <td>46056</td>\n",
       "      <td>COBRANZA_INTELIGENTE_MX</td>\n",
       "      <td>5561408990</td>\n",
       "      <td>guadalupe.servin</td>\n",
       "      <td>0:00:06</td>\n",
       "      <td>0:00:14</td>\n",
       "    </tr>\n",
       "    <tr>\n",
       "      <th>1</th>\n",
       "      <td>6/27/2023 10:05</td>\n",
       "      <td>359213</td>\n",
       "      <td>COBRANZA_INTELIGENTE_MX</td>\n",
       "      <td>4611501750</td>\n",
       "      <td>guadalupe.servin</td>\n",
       "      <td>0:00:00</td>\n",
       "      <td>0:00:27</td>\n",
       "    </tr>\n",
       "    <tr>\n",
       "      <th>2</th>\n",
       "      <td>6/27/2023 10:07</td>\n",
       "      <td>524130</td>\n",
       "      <td>COBRANZA_INTELIGENTE_MX</td>\n",
       "      <td>4929272804</td>\n",
       "      <td>guadalupe.servin</td>\n",
       "      <td>0:00:00</td>\n",
       "      <td>0:00:18</td>\n",
       "    </tr>\n",
       "    <tr>\n",
       "      <th>3</th>\n",
       "      <td>6/27/2023 12:11</td>\n",
       "      <td>624903</td>\n",
       "      <td>COBRANZA_INTELIGENTE_MX</td>\n",
       "      <td>3231472175</td>\n",
       "      <td>guadalupe.servin</td>\n",
       "      <td>0:00:03</td>\n",
       "      <td>0:00:31</td>\n",
       "    </tr>\n",
       "    <tr>\n",
       "      <th>4</th>\n",
       "      <td>6/27/2023 10:09</td>\n",
       "      <td>724594</td>\n",
       "      <td>COBRANZA_INTELIGENTE_MX</td>\n",
       "      <td>9971345343</td>\n",
       "      <td>guadalupe.servin</td>\n",
       "      <td>0:00:00</td>\n",
       "      <td>0:00:23</td>\n",
       "    </tr>\n",
       "  </tbody>\n",
       "</table>\n",
       "</div>"
      ],
      "text/plain": [
       "             Fecha  IDCliente                 Campania    Telefono  \\\n",
       "0  6/27/2023 13:22      46056  COBRANZA_INTELIGENTE_MX  5561408990   \n",
       "1  6/27/2023 10:05     359213  COBRANZA_INTELIGENTE_MX  4611501750   \n",
       "2  6/27/2023 10:07     524130  COBRANZA_INTELIGENTE_MX  4929272804   \n",
       "3  6/27/2023 12:11     624903  COBRANZA_INTELIGENTE_MX  3231472175   \n",
       "4  6/27/2023 10:09     724594  COBRANZA_INTELIGENTE_MX  9971345343   \n",
       "\n",
       "             Agente Tiempohablado Tiempototal  \n",
       "0  guadalupe.servin       0:00:06     0:00:14  \n",
       "1  guadalupe.servin       0:00:00     0:00:27  \n",
       "2  guadalupe.servin       0:00:00     0:00:18  \n",
       "3  guadalupe.servin       0:00:03     0:00:31  \n",
       "4  guadalupe.servin       0:00:00     0:00:23  "
      ]
     },
     "metadata": {},
     "output_type": "display_data"
    }
   ],
   "source": [
    "llamadas_data_df = pd.read_csv('../source_files/Llamadas_2024.csv', encoding='latin-1')\n",
    "\n",
    "display(llamadas_data_df.head())"
   ]
  },
  {
   "cell_type": "markdown",
   "metadata": {},
   "source": [
    "#### Análisis de Valores"
   ]
  },
  {
   "cell_type": "code",
   "execution_count": 77,
   "metadata": {},
   "outputs": [
    {
     "name": "stdout",
     "output_type": "stream",
     "text": [
      "Dimensiones : 1326 filas, 7 columnas\n",
      "Valores NA Totales : 0 \n",
      "                               Columna Tipo de Datos     Valores Distintos Valores NA\n",
      "                                 Fecha     object         1007          0\n",
      "                             IDCliente      int64          773          0\n",
      "                              Campania     object           14          0\n",
      "                              Telefono      int64          941          0\n",
      "                                Agente     object           10          0\n",
      "                         Tiempohablado     object          223          0\n",
      "                           Tiempototal     object          243          0\n"
     ]
    }
   ],
   "source": [
    "initial_eda(llamadas_data_df)"
   ]
  },
  {
   "cell_type": "code",
   "execution_count": 106,
   "metadata": {},
   "outputs": [
    {
     "data": {
      "text/html": [
       "<div>\n",
       "<style scoped>\n",
       "    .dataframe tbody tr th:only-of-type {\n",
       "        vertical-align: middle;\n",
       "    }\n",
       "\n",
       "    .dataframe tbody tr th {\n",
       "        vertical-align: top;\n",
       "    }\n",
       "\n",
       "    .dataframe thead th {\n",
       "        text-align: right;\n",
       "    }\n",
       "</style>\n",
       "<table border=\"1\" class=\"dataframe\">\n",
       "  <thead>\n",
       "    <tr style=\"text-align: right;\">\n",
       "      <th></th>\n",
       "      <th>Fecha</th>\n",
       "      <th>IDCliente</th>\n",
       "      <th>Campania</th>\n",
       "      <th>Telefono</th>\n",
       "      <th>Agente</th>\n",
       "      <th>Tiempohablado</th>\n",
       "      <th>Tiempototal</th>\n",
       "      <th>Clave</th>\n",
       "    </tr>\n",
       "  </thead>\n",
       "  <tbody>\n",
       "    <tr>\n",
       "      <th>228</th>\n",
       "      <td>6/27/2023 9:28</td>\n",
       "      <td>-1</td>\n",
       "      <td>pe_adq_onboarding</td>\n",
       "      <td>969583200</td>\n",
       "      <td>pe_rrojas</td>\n",
       "      <td>0:00:08</td>\n",
       "      <td>0:00:19</td>\n",
       "      <td>6/27/2023 9:28-1</td>\n",
       "    </tr>\n",
       "    <tr>\n",
       "      <th>229</th>\n",
       "      <td>6/27/2023 9:31</td>\n",
       "      <td>-1</td>\n",
       "      <td>pe_adq_onboarding</td>\n",
       "      <td>969277671</td>\n",
       "      <td>pe_jascencio</td>\n",
       "      <td>0:00:07</td>\n",
       "      <td>0:00:21</td>\n",
       "      <td>6/27/2023 9:31-1</td>\n",
       "    </tr>\n",
       "    <tr>\n",
       "      <th>230</th>\n",
       "      <td>6/27/2023 9:35</td>\n",
       "      <td>-1</td>\n",
       "      <td>pe_adq_onboarding</td>\n",
       "      <td>996215858</td>\n",
       "      <td>pe_jascencio</td>\n",
       "      <td>0:00:02</td>\n",
       "      <td>0:00:14</td>\n",
       "      <td>6/27/2023 9:35-1</td>\n",
       "    </tr>\n",
       "    <tr>\n",
       "      <th>231</th>\n",
       "      <td>6/27/2023 9:37</td>\n",
       "      <td>-1</td>\n",
       "      <td>pe_adq_onboarding</td>\n",
       "      <td>930141290</td>\n",
       "      <td>pe_jascencio</td>\n",
       "      <td>0:00:14</td>\n",
       "      <td>0:00:22</td>\n",
       "      <td>6/27/2023 9:37-1</td>\n",
       "    </tr>\n",
       "    <tr>\n",
       "      <th>236</th>\n",
       "      <td>6/27/2023 14:27</td>\n",
       "      <td>-1</td>\n",
       "      <td>pe_adq_onboarding</td>\n",
       "      <td>998142067</td>\n",
       "      <td>pe_lchavez</td>\n",
       "      <td>0:00:04</td>\n",
       "      <td>0:00:27</td>\n",
       "      <td>6/27/2023 14:27-1</td>\n",
       "    </tr>\n",
       "    <tr>\n",
       "      <th>...</th>\n",
       "      <td>...</td>\n",
       "      <td>...</td>\n",
       "      <td>...</td>\n",
       "      <td>...</td>\n",
       "      <td>...</td>\n",
       "      <td>...</td>\n",
       "      <td>...</td>\n",
       "      <td>...</td>\n",
       "    </tr>\n",
       "    <tr>\n",
       "      <th>1280</th>\n",
       "      <td>8/28/2023 11:39</td>\n",
       "      <td>-1</td>\n",
       "      <td>pe_adq_onboarding</td>\n",
       "      <td>923424699</td>\n",
       "      <td>pe_jascencio</td>\n",
       "      <td>0:00:24</td>\n",
       "      <td>0:00:53</td>\n",
       "      <td>8/28/2023 11:39-1</td>\n",
       "    </tr>\n",
       "    <tr>\n",
       "      <th>1281</th>\n",
       "      <td>8/28/2023 11:22</td>\n",
       "      <td>-1</td>\n",
       "      <td>pe_adq_onboarding</td>\n",
       "      <td>956982103</td>\n",
       "      <td>pe_jascencio</td>\n",
       "      <td>0:00:27</td>\n",
       "      <td>0:00:56</td>\n",
       "      <td>8/28/2023 11:22-1</td>\n",
       "    </tr>\n",
       "    <tr>\n",
       "      <th>1282</th>\n",
       "      <td>8/28/2023 11:24</td>\n",
       "      <td>-1</td>\n",
       "      <td>pe_adq_onboarding</td>\n",
       "      <td>972666578</td>\n",
       "      <td>pe_jascencio</td>\n",
       "      <td>0:01:58</td>\n",
       "      <td>0:02:01</td>\n",
       "      <td>8/28/2023 11:24-1</td>\n",
       "    </tr>\n",
       "    <tr>\n",
       "      <th>1283</th>\n",
       "      <td>8/28/2023 11:28</td>\n",
       "      <td>-1</td>\n",
       "      <td>pe_adq_onboarding</td>\n",
       "      <td>981003595</td>\n",
       "      <td>pe_jascencio</td>\n",
       "      <td>0:01:54</td>\n",
       "      <td>0:01:57</td>\n",
       "      <td>8/28/2023 11:28-1</td>\n",
       "    </tr>\n",
       "    <tr>\n",
       "      <th>1284</th>\n",
       "      <td>8/28/2023 14:42</td>\n",
       "      <td>-1</td>\n",
       "      <td>pe_adq_onboarding</td>\n",
       "      <td>943645727</td>\n",
       "      <td>pe_jascencio</td>\n",
       "      <td>0:02:45</td>\n",
       "      <td>0:02:47</td>\n",
       "      <td>8/28/2023 14:42-1</td>\n",
       "    </tr>\n",
       "  </tbody>\n",
       "</table>\n",
       "<p>253 rows × 8 columns</p>\n",
       "</div>"
      ],
      "text/plain": [
       "                Fecha  IDCliente           Campania   Telefono        Agente  \\\n",
       "228    6/27/2023 9:28         -1  pe_adq_onboarding  969583200     pe_rrojas   \n",
       "229    6/27/2023 9:31         -1  pe_adq_onboarding  969277671  pe_jascencio   \n",
       "230    6/27/2023 9:35         -1  pe_adq_onboarding  996215858  pe_jascencio   \n",
       "231    6/27/2023 9:37         -1  pe_adq_onboarding  930141290  pe_jascencio   \n",
       "236   6/27/2023 14:27         -1  pe_adq_onboarding  998142067    pe_lchavez   \n",
       "...               ...        ...                ...        ...           ...   \n",
       "1280  8/28/2023 11:39         -1  pe_adq_onboarding  923424699  pe_jascencio   \n",
       "1281  8/28/2023 11:22         -1  pe_adq_onboarding  956982103  pe_jascencio   \n",
       "1282  8/28/2023 11:24         -1  pe_adq_onboarding  972666578  pe_jascencio   \n",
       "1283  8/28/2023 11:28         -1  pe_adq_onboarding  981003595  pe_jascencio   \n",
       "1284  8/28/2023 14:42         -1  pe_adq_onboarding  943645727  pe_jascencio   \n",
       "\n",
       "     Tiempohablado Tiempototal              Clave  \n",
       "228        0:00:08     0:00:19   6/27/2023 9:28-1  \n",
       "229        0:00:07     0:00:21   6/27/2023 9:31-1  \n",
       "230        0:00:02     0:00:14   6/27/2023 9:35-1  \n",
       "231        0:00:14     0:00:22   6/27/2023 9:37-1  \n",
       "236        0:00:04     0:00:27  6/27/2023 14:27-1  \n",
       "...            ...         ...                ...  \n",
       "1280       0:00:24     0:00:53  8/28/2023 11:39-1  \n",
       "1281       0:00:27     0:00:56  8/28/2023 11:22-1  \n",
       "1282       0:01:58     0:02:01  8/28/2023 11:24-1  \n",
       "1283       0:01:54     0:01:57  8/28/2023 11:28-1  \n",
       "1284       0:02:45     0:02:47  8/28/2023 14:42-1  \n",
       "\n",
       "[253 rows x 8 columns]"
      ]
     },
     "execution_count": 106,
     "metadata": {},
     "output_type": "execute_result"
    }
   ],
   "source": [
    "llamadas_data_df[llamadas_data_df['IDCliente'] == -1]"
   ]
  },
  {
   "cell_type": "markdown",
   "metadata": {},
   "source": [
    "Conclusiones:\n",
    "- No hay valores faltantes en ninguna de las columnas\n",
    "- No existe ninguna columna con valores únicos. Como clave primaria para este dataset proponemos entonces la combinación de dos columnas: Fecha e IDCliente. \n",
    "- El valor CustomerID = -1 no existe en el dataset de Customers, posiblemente sea un identificador para cuando el Customer es desconocido.\n",
    "\n",
    "*Podríamos utilizar también la campaña como parte de la clave primaria, si para una misma fecha podemos tener más de una campaña activa, es un punto a confirmar con los stakeholders del negocio*"
   ]
  },
  {
   "cell_type": "markdown",
   "metadata": {},
   "source": [
    "#### Análisis de clave propuesta"
   ]
  },
  {
   "cell_type": "code",
   "execution_count": 105,
   "metadata": {},
   "outputs": [
    {
     "data": {
      "text/plain": [
       "(1073, 8)"
      ]
     },
     "metadata": {},
     "output_type": "display_data"
    },
    {
     "data": {
      "text/plain": [
       "1073"
      ]
     },
     "metadata": {},
     "output_type": "display_data"
    }
   ],
   "source": [
    "llamadas_data_df_filtered = llamadas_data_df.copy()\n",
    "llamadas_data_df_filtered = llamadas_data_df_filtered[llamadas_data_df_filtered[\"IDCliente\"] != -1]\n",
    "\n",
    "display(llamadas_data_df_filtered.shape)\n",
    "\n",
    "llamadas_data_df_filtered[\"Clave\"] = llamadas_data_df_filtered[\"Fecha\"].astype(str) + llamadas_data_df_filtered[\"IDCliente\"].astype(str)\n",
    "display(llamadas_data_df_filtered[\"Clave\"].nunique())"
   ]
  },
  {
   "cell_type": "markdown",
   "metadata": {},
   "source": [
    "Conclusiones: \n",
    "   No teniendo en cuenta el valor para Cliente desconocido, la clave propuesta es única."
   ]
  },
  {
   "cell_type": "markdown",
   "metadata": {},
   "source": [
    "### Customers"
   ]
  },
  {
   "cell_type": "markdown",
   "metadata": {},
   "source": [
    "#### Leer Datos"
   ]
  },
  {
   "cell_type": "code",
   "execution_count": 78,
   "metadata": {},
   "outputs": [
    {
     "data": {
      "text/html": [
       "<div>\n",
       "<style scoped>\n",
       "    .dataframe tbody tr th:only-of-type {\n",
       "        vertical-align: middle;\n",
       "    }\n",
       "\n",
       "    .dataframe tbody tr th {\n",
       "        vertical-align: top;\n",
       "    }\n",
       "\n",
       "    .dataframe thead th {\n",
       "        text-align: right;\n",
       "    }\n",
       "</style>\n",
       "<table border=\"1\" class=\"dataframe\">\n",
       "  <thead>\n",
       "    <tr style=\"text-align: right;\">\n",
       "      <th></th>\n",
       "      <th>CustomerID</th>\n",
       "      <th>Gender</th>\n",
       "      <th>Type</th>\n",
       "    </tr>\n",
       "  </thead>\n",
       "  <tbody>\n",
       "    <tr>\n",
       "      <th>0</th>\n",
       "      <td>544</td>\n",
       "      <td>F</td>\n",
       "      <td>GEM</td>\n",
       "    </tr>\n",
       "    <tr>\n",
       "      <th>1</th>\n",
       "      <td>1498</td>\n",
       "      <td>F</td>\n",
       "      <td>REGULAR</td>\n",
       "    </tr>\n",
       "    <tr>\n",
       "      <th>2</th>\n",
       "      <td>2141</td>\n",
       "      <td>F</td>\n",
       "      <td>REGULAR</td>\n",
       "    </tr>\n",
       "    <tr>\n",
       "      <th>3</th>\n",
       "      <td>10532</td>\n",
       "      <td>F</td>\n",
       "      <td>GEM</td>\n",
       "    </tr>\n",
       "    <tr>\n",
       "      <th>4</th>\n",
       "      <td>34657</td>\n",
       "      <td>M</td>\n",
       "      <td>GEM</td>\n",
       "    </tr>\n",
       "  </tbody>\n",
       "</table>\n",
       "</div>"
      ],
      "text/plain": [
       "   CustomerID Gender     Type\n",
       "0         544      F      GEM\n",
       "1        1498      F  REGULAR\n",
       "2        2141      F  REGULAR\n",
       "3       10532      F      GEM\n",
       "4       34657      M      GEM"
      ]
     },
     "metadata": {},
     "output_type": "display_data"
    }
   ],
   "source": [
    "customers_data_df = pd.read_csv('../source_files/Customers_2024.csv', encoding='latin-1')\n",
    "\n",
    "display(customers_data_df.head())"
   ]
  },
  {
   "cell_type": "markdown",
   "metadata": {},
   "source": [
    "#### Análisis de Valores"
   ]
  },
  {
   "cell_type": "code",
   "execution_count": 79,
   "metadata": {},
   "outputs": [
    {
     "name": "stdout",
     "output_type": "stream",
     "text": [
      "Dimensiones : 782 filas, 3 columnas\n",
      "Valores NA Totales : 117 \n",
      "                               Columna Tipo de Datos     Valores Distintos Valores NA\n",
      "                            CustomerID      int64          782          0\n",
      "                                Gender     object            2        117\n",
      "                                  Type     object            2          0\n"
     ]
    }
   ],
   "source": [
    "initial_eda(customers_data_df)"
   ]
  },
  {
   "cell_type": "markdown",
   "metadata": {},
   "source": [
    "Conclusiones:\n",
    "- Existen valores faltantes en la columna \"Gender\"\n",
    "- La columna \"CustomerID\" tiene valores únicos, por lo cual podemos utilizarla como clave primaria para este dataset."
   ]
  },
  {
   "cell_type": "markdown",
   "metadata": {},
   "source": [
    "### Canal Digital"
   ]
  },
  {
   "cell_type": "markdown",
   "metadata": {},
   "source": [
    "#### Leer Datos"
   ]
  },
  {
   "cell_type": "code",
   "execution_count": 80,
   "metadata": {},
   "outputs": [
    {
     "data": {
      "text/html": [
       "<div>\n",
       "<style scoped>\n",
       "    .dataframe tbody tr th:only-of-type {\n",
       "        vertical-align: middle;\n",
       "    }\n",
       "\n",
       "    .dataframe tbody tr th {\n",
       "        vertical-align: top;\n",
       "    }\n",
       "\n",
       "    .dataframe thead th {\n",
       "        text-align: right;\n",
       "    }\n",
       "</style>\n",
       "<table border=\"1\" class=\"dataframe\">\n",
       "  <thead>\n",
       "    <tr style=\"text-align: right;\">\n",
       "      <th></th>\n",
       "      <th>idcanal</th>\n",
       "      <th>desc_canal</th>\n",
       "    </tr>\n",
       "  </thead>\n",
       "  <tbody>\n",
       "    <tr>\n",
       "      <th>0</th>\n",
       "      <td>1</td>\n",
       "      <td>Whatsapp</td>\n",
       "    </tr>\n",
       "    <tr>\n",
       "      <th>1</th>\n",
       "      <td>2</td>\n",
       "      <td>AppCallCore</td>\n",
       "    </tr>\n",
       "  </tbody>\n",
       "</table>\n",
       "</div>"
      ],
      "text/plain": [
       "   idcanal   desc_canal\n",
       "0        1     Whatsapp\n",
       "1        2  AppCallCore"
      ]
     },
     "metadata": {},
     "output_type": "display_data"
    }
   ],
   "source": [
    "canal_data_df = pd.read_csv('../source_files/CanalDigital_2024.csv', encoding='latin-1')\n",
    "\n",
    "display(canal_data_df.head())"
   ]
  },
  {
   "cell_type": "markdown",
   "metadata": {},
   "source": [
    "#### Análisis de Valores"
   ]
  },
  {
   "cell_type": "code",
   "execution_count": 81,
   "metadata": {},
   "outputs": [
    {
     "name": "stdout",
     "output_type": "stream",
     "text": [
      "Dimensiones : 2 filas, 2 columnas\n",
      "Valores NA Totales : 0 \n",
      "                               Columna Tipo de Datos     Valores Distintos Valores NA\n",
      "                               idcanal      int64            2          0\n",
      "                            desc_canal     object            2          0\n"
     ]
    }
   ],
   "source": [
    "initial_eda(canal_data_df)"
   ]
  },
  {
   "cell_type": "markdown",
   "metadata": {},
   "source": [
    "Conclusiones:\n",
    "- No existen valores faltantes para ninguna de las columnas.\n",
    "- Ambas columnas tienen valores únicos. La columna \"idcanal\" tiene valores numéricos enteros, y la otra columna contiene una descripción textual,por lo cual elegimos \"idcanal\" como clave primaria para este dataset. "
   ]
  },
  {
   "cell_type": "markdown",
   "metadata": {},
   "source": [
    "### Agentes"
   ]
  },
  {
   "cell_type": "markdown",
   "metadata": {},
   "source": [
    "#### Leer Datos"
   ]
  },
  {
   "cell_type": "code",
   "execution_count": 82,
   "metadata": {},
   "outputs": [
    {
     "data": {
      "text/html": [
       "<div>\n",
       "<style scoped>\n",
       "    .dataframe tbody tr th:only-of-type {\n",
       "        vertical-align: middle;\n",
       "    }\n",
       "\n",
       "    .dataframe tbody tr th {\n",
       "        vertical-align: top;\n",
       "    }\n",
       "\n",
       "    .dataframe thead th {\n",
       "        text-align: right;\n",
       "    }\n",
       "</style>\n",
       "<table border=\"1\" class=\"dataframe\">\n",
       "  <thead>\n",
       "    <tr style=\"text-align: right;\">\n",
       "      <th></th>\n",
       "      <th>idagente</th>\n",
       "      <th>agente</th>\n",
       "      <th>nivelexpertise</th>\n",
       "      <th>nombre</th>\n",
       "      <th>apellido</th>\n",
       "    </tr>\n",
       "  </thead>\n",
       "  <tbody>\n",
       "    <tr>\n",
       "      <th>0</th>\n",
       "      <td>1</td>\n",
       "      <td>glopez</td>\n",
       "      <td>1</td>\n",
       "      <td>Graciela</td>\n",
       "      <td>López</td>\n",
       "    </tr>\n",
       "    <tr>\n",
       "      <th>1</th>\n",
       "      <td>2</td>\n",
       "      <td>guadalupe.servin</td>\n",
       "      <td>1</td>\n",
       "      <td>Guadalupe</td>\n",
       "      <td>Servin</td>\n",
       "    </tr>\n",
       "    <tr>\n",
       "      <th>2</th>\n",
       "      <td>3</td>\n",
       "      <td>maryory.huaranga</td>\n",
       "      <td>1</td>\n",
       "      <td>Mar</td>\n",
       "      <td>Huaranga</td>\n",
       "    </tr>\n",
       "    <tr>\n",
       "      <th>3</th>\n",
       "      <td>4</td>\n",
       "      <td>mx_esuazo</td>\n",
       "      <td>2</td>\n",
       "      <td>Ernesto</td>\n",
       "      <td>Suazo</td>\n",
       "    </tr>\n",
       "    <tr>\n",
       "      <th>4</th>\n",
       "      <td>5</td>\n",
       "      <td>mx_mtorres</td>\n",
       "      <td>1</td>\n",
       "      <td>Manuel</td>\n",
       "      <td>Torres</td>\n",
       "    </tr>\n",
       "  </tbody>\n",
       "</table>\n",
       "</div>"
      ],
      "text/plain": [
       "   idagente            agente  nivelexpertise     nombre  apellido\n",
       "0         1            glopez               1   Graciela     López\n",
       "1         2  guadalupe.servin               1  Guadalupe    Servin\n",
       "2         3  maryory.huaranga               1        Mar  Huaranga\n",
       "3         4         mx_esuazo               2    Ernesto     Suazo\n",
       "4         5        mx_mtorres               1     Manuel    Torres"
      ]
     },
     "metadata": {},
     "output_type": "display_data"
    }
   ],
   "source": [
    "agentes_data_df = pd.read_csv('../source_files/Agentes_2024.csv', encoding='latin-1')\n",
    "\n",
    "display(agentes_data_df.head())"
   ]
  },
  {
   "cell_type": "markdown",
   "metadata": {},
   "source": [
    "#### Análisis de Valores"
   ]
  },
  {
   "cell_type": "code",
   "execution_count": 83,
   "metadata": {},
   "outputs": [
    {
     "name": "stdout",
     "output_type": "stream",
     "text": [
      "Dimensiones : 10 filas, 5 columnas\n",
      "Valores NA Totales : 0 \n",
      "                               Columna Tipo de Datos     Valores Distintos Valores NA\n",
      "                              idagente      int64           10          0\n",
      "                                agente     object           10          0\n",
      "                        nivelexpertise      int64            2          0\n",
      "                                nombre     object           10          0\n",
      "                              apellido     object           10          0\n"
     ]
    }
   ],
   "source": [
    "initial_eda(agentes_data_df)"
   ]
  },
  {
   "cell_type": "markdown",
   "metadata": {},
   "source": [
    "Conclusiones:\n",
    "- No existen valores faltantes en ninguna de las columnas.\n",
    "- Las columnas \"idagente\" y \"agente\" tienen valores únicos, pero elegimos utilizar la primera como clave primaria para este dataset, por tener datos numéricos enteros."
   ]
  },
  {
   "cell_type": "markdown",
   "metadata": {},
   "source": [
    "## Análisis de Relación entre los Datasets"
   ]
  },
  {
   "cell_type": "markdown",
   "metadata": {},
   "source": [
    "### Llamadas y agentes"
   ]
  },
  {
   "cell_type": "code",
   "execution_count": 84,
   "metadata": {},
   "outputs": [
    {
     "data": {
      "text/html": [
       "<div>\n",
       "<style scoped>\n",
       "    .dataframe tbody tr th:only-of-type {\n",
       "        vertical-align: middle;\n",
       "    }\n",
       "\n",
       "    .dataframe tbody tr th {\n",
       "        vertical-align: top;\n",
       "    }\n",
       "\n",
       "    .dataframe thead th {\n",
       "        text-align: right;\n",
       "    }\n",
       "</style>\n",
       "<table border=\"1\" class=\"dataframe\">\n",
       "  <thead>\n",
       "    <tr style=\"text-align: right;\">\n",
       "      <th></th>\n",
       "      <th>Fecha</th>\n",
       "      <th>IDCliente</th>\n",
       "      <th>Campania</th>\n",
       "      <th>Telefono</th>\n",
       "      <th>Agente</th>\n",
       "      <th>Tiempohablado</th>\n",
       "      <th>Tiempototal</th>\n",
       "      <th>idagente</th>\n",
       "      <th>nivelexpertise</th>\n",
       "      <th>nombre</th>\n",
       "      <th>apellido</th>\n",
       "    </tr>\n",
       "  </thead>\n",
       "  <tbody>\n",
       "    <tr>\n",
       "      <th>0</th>\n",
       "      <td>6/27/2023 13:22</td>\n",
       "      <td>46056</td>\n",
       "      <td>COBRANZA_INTELIGENTE_MX</td>\n",
       "      <td>5561408990</td>\n",
       "      <td>guadalupe.servin</td>\n",
       "      <td>0:00:06</td>\n",
       "      <td>0:00:14</td>\n",
       "      <td>2</td>\n",
       "      <td>1</td>\n",
       "      <td>Guadalupe</td>\n",
       "      <td>Servin</td>\n",
       "    </tr>\n",
       "    <tr>\n",
       "      <th>1</th>\n",
       "      <td>6/27/2023 10:05</td>\n",
       "      <td>359213</td>\n",
       "      <td>COBRANZA_INTELIGENTE_MX</td>\n",
       "      <td>4611501750</td>\n",
       "      <td>guadalupe.servin</td>\n",
       "      <td>0:00:00</td>\n",
       "      <td>0:00:27</td>\n",
       "      <td>2</td>\n",
       "      <td>1</td>\n",
       "      <td>Guadalupe</td>\n",
       "      <td>Servin</td>\n",
       "    </tr>\n",
       "    <tr>\n",
       "      <th>2</th>\n",
       "      <td>6/27/2023 10:07</td>\n",
       "      <td>524130</td>\n",
       "      <td>COBRANZA_INTELIGENTE_MX</td>\n",
       "      <td>4929272804</td>\n",
       "      <td>guadalupe.servin</td>\n",
       "      <td>0:00:00</td>\n",
       "      <td>0:00:18</td>\n",
       "      <td>2</td>\n",
       "      <td>1</td>\n",
       "      <td>Guadalupe</td>\n",
       "      <td>Servin</td>\n",
       "    </tr>\n",
       "    <tr>\n",
       "      <th>3</th>\n",
       "      <td>6/27/2023 12:11</td>\n",
       "      <td>624903</td>\n",
       "      <td>COBRANZA_INTELIGENTE_MX</td>\n",
       "      <td>3231472175</td>\n",
       "      <td>guadalupe.servin</td>\n",
       "      <td>0:00:03</td>\n",
       "      <td>0:00:31</td>\n",
       "      <td>2</td>\n",
       "      <td>1</td>\n",
       "      <td>Guadalupe</td>\n",
       "      <td>Servin</td>\n",
       "    </tr>\n",
       "    <tr>\n",
       "      <th>4</th>\n",
       "      <td>6/27/2023 10:09</td>\n",
       "      <td>724594</td>\n",
       "      <td>COBRANZA_INTELIGENTE_MX</td>\n",
       "      <td>9971345343</td>\n",
       "      <td>guadalupe.servin</td>\n",
       "      <td>0:00:00</td>\n",
       "      <td>0:00:23</td>\n",
       "      <td>2</td>\n",
       "      <td>1</td>\n",
       "      <td>Guadalupe</td>\n",
       "      <td>Servin</td>\n",
       "    </tr>\n",
       "    <tr>\n",
       "      <th>...</th>\n",
       "      <td>...</td>\n",
       "      <td>...</td>\n",
       "      <td>...</td>\n",
       "      <td>...</td>\n",
       "      <td>...</td>\n",
       "      <td>...</td>\n",
       "      <td>...</td>\n",
       "      <td>...</td>\n",
       "      <td>...</td>\n",
       "      <td>...</td>\n",
       "      <td>...</td>\n",
       "    </tr>\n",
       "    <tr>\n",
       "      <th>1321</th>\n",
       "      <td>7/28/2023 13:45</td>\n",
       "      <td>1203959</td>\n",
       "      <td>pe_adq_welcome</td>\n",
       "      <td>931837126</td>\n",
       "      <td>glopez</td>\n",
       "      <td>0:07:11</td>\n",
       "      <td>0:07:20</td>\n",
       "      <td>1</td>\n",
       "      <td>1</td>\n",
       "      <td>Graciela</td>\n",
       "      <td>López</td>\n",
       "    </tr>\n",
       "    <tr>\n",
       "      <th>1322</th>\n",
       "      <td>7/28/2023 13:41</td>\n",
       "      <td>1203822</td>\n",
       "      <td>pe_adq_welcome</td>\n",
       "      <td>974546959</td>\n",
       "      <td>glopez</td>\n",
       "      <td>0:00:22</td>\n",
       "      <td>0:01:20</td>\n",
       "      <td>1</td>\n",
       "      <td>1</td>\n",
       "      <td>Graciela</td>\n",
       "      <td>López</td>\n",
       "    </tr>\n",
       "    <tr>\n",
       "      <th>1323</th>\n",
       "      <td>7/28/2023 15:58</td>\n",
       "      <td>1203280</td>\n",
       "      <td>pe_adq_welcome</td>\n",
       "      <td>999225038</td>\n",
       "      <td>glopez</td>\n",
       "      <td>0:04:18</td>\n",
       "      <td>0:04:21</td>\n",
       "      <td>1</td>\n",
       "      <td>1</td>\n",
       "      <td>Graciela</td>\n",
       "      <td>López</td>\n",
       "    </tr>\n",
       "    <tr>\n",
       "      <th>1324</th>\n",
       "      <td>8/25/2023 13:17</td>\n",
       "      <td>1163602</td>\n",
       "      <td>mx_adq_onboarding</td>\n",
       "      <td>8311626972</td>\n",
       "      <td>pe_jascencio</td>\n",
       "      <td>0:00:09</td>\n",
       "      <td>0:00:19</td>\n",
       "      <td>7</td>\n",
       "      <td>2</td>\n",
       "      <td>Juan</td>\n",
       "      <td>Ascencio</td>\n",
       "    </tr>\n",
       "    <tr>\n",
       "      <th>1325</th>\n",
       "      <td>8/25/2023 11:48</td>\n",
       "      <td>1164338</td>\n",
       "      <td>mx_adq_onboarding</td>\n",
       "      <td>8134722684</td>\n",
       "      <td>pe_jascencio</td>\n",
       "      <td>0:04:18</td>\n",
       "      <td>0:04:49</td>\n",
       "      <td>7</td>\n",
       "      <td>2</td>\n",
       "      <td>Juan</td>\n",
       "      <td>Ascencio</td>\n",
       "    </tr>\n",
       "  </tbody>\n",
       "</table>\n",
       "<p>1326 rows × 11 columns</p>\n",
       "</div>"
      ],
      "text/plain": [
       "                Fecha  IDCliente                 Campania    Telefono  \\\n",
       "0     6/27/2023 13:22      46056  COBRANZA_INTELIGENTE_MX  5561408990   \n",
       "1     6/27/2023 10:05     359213  COBRANZA_INTELIGENTE_MX  4611501750   \n",
       "2     6/27/2023 10:07     524130  COBRANZA_INTELIGENTE_MX  4929272804   \n",
       "3     6/27/2023 12:11     624903  COBRANZA_INTELIGENTE_MX  3231472175   \n",
       "4     6/27/2023 10:09     724594  COBRANZA_INTELIGENTE_MX  9971345343   \n",
       "...               ...        ...                      ...         ...   \n",
       "1321  7/28/2023 13:45    1203959           pe_adq_welcome   931837126   \n",
       "1322  7/28/2023 13:41    1203822           pe_adq_welcome   974546959   \n",
       "1323  7/28/2023 15:58    1203280           pe_adq_welcome   999225038   \n",
       "1324  8/25/2023 13:17    1163602        mx_adq_onboarding  8311626972   \n",
       "1325  8/25/2023 11:48    1164338        mx_adq_onboarding  8134722684   \n",
       "\n",
       "                Agente Tiempohablado Tiempototal  idagente  nivelexpertise  \\\n",
       "0     guadalupe.servin       0:00:06     0:00:14         2               1   \n",
       "1     guadalupe.servin       0:00:00     0:00:27         2               1   \n",
       "2     guadalupe.servin       0:00:00     0:00:18         2               1   \n",
       "3     guadalupe.servin       0:00:03     0:00:31         2               1   \n",
       "4     guadalupe.servin       0:00:00     0:00:23         2               1   \n",
       "...                ...           ...         ...       ...             ...   \n",
       "1321            glopez       0:07:11     0:07:20         1               1   \n",
       "1322            glopez       0:00:22     0:01:20         1               1   \n",
       "1323            glopez       0:04:18     0:04:21         1               1   \n",
       "1324      pe_jascencio       0:00:09     0:00:19         7               2   \n",
       "1325      pe_jascencio       0:04:18     0:04:49         7               2   \n",
       "\n",
       "         nombre  apellido  \n",
       "0     Guadalupe    Servin  \n",
       "1     Guadalupe    Servin  \n",
       "2     Guadalupe    Servin  \n",
       "3     Guadalupe    Servin  \n",
       "4     Guadalupe    Servin  \n",
       "...         ...       ...  \n",
       "1321   Graciela     López  \n",
       "1322   Graciela     López  \n",
       "1323   Graciela     López  \n",
       "1324       Juan  Ascencio  \n",
       "1325       Juan  Ascencio  \n",
       "\n",
       "[1326 rows x 11 columns]"
      ]
     },
     "metadata": {},
     "output_type": "display_data"
    }
   ],
   "source": [
    "llamadas_agentes_df = llamadas_data_df.join(agentes_data_df.set_index('agente'), on='Agente', how='left')\n",
    "\n",
    "display(llamadas_agentes_df)"
   ]
  },
  {
   "cell_type": "code",
   "execution_count": 85,
   "metadata": {},
   "outputs": [
    {
     "data": {
      "text/plain": [
       "(0, 11)"
      ]
     },
     "execution_count": 85,
     "metadata": {},
     "output_type": "execute_result"
    }
   ],
   "source": [
    "llamadas_agentes_df[llamadas_agentes_df['idagente'].isnull()].shape"
   ]
  },
  {
   "cell_type": "markdown",
   "metadata": {},
   "source": [
    "Conclusiones:\n",
    "- Podemos utilizar el campo \"agente\" del Dataset Llamadas como clave foránea al Dataset Agentes. En este caso, si bien el campo utilizado en el segundo Dataset no es su clave primaria, tiene valores únicos."
   ]
  },
  {
   "cell_type": "markdown",
   "metadata": {},
   "source": [
    "### Llamadas y customers"
   ]
  },
  {
   "cell_type": "code",
   "execution_count": 86,
   "metadata": {},
   "outputs": [
    {
     "data": {
      "text/html": [
       "<div>\n",
       "<style scoped>\n",
       "    .dataframe tbody tr th:only-of-type {\n",
       "        vertical-align: middle;\n",
       "    }\n",
       "\n",
       "    .dataframe tbody tr th {\n",
       "        vertical-align: top;\n",
       "    }\n",
       "\n",
       "    .dataframe thead th {\n",
       "        text-align: right;\n",
       "    }\n",
       "</style>\n",
       "<table border=\"1\" class=\"dataframe\">\n",
       "  <thead>\n",
       "    <tr style=\"text-align: right;\">\n",
       "      <th></th>\n",
       "      <th>Fecha</th>\n",
       "      <th>IDCliente</th>\n",
       "      <th>Campania</th>\n",
       "      <th>Telefono</th>\n",
       "      <th>Agente</th>\n",
       "      <th>Tiempohablado</th>\n",
       "      <th>Tiempototal</th>\n",
       "      <th>Gender</th>\n",
       "      <th>Type</th>\n",
       "    </tr>\n",
       "  </thead>\n",
       "  <tbody>\n",
       "    <tr>\n",
       "      <th>0</th>\n",
       "      <td>6/27/2023 13:22</td>\n",
       "      <td>46056</td>\n",
       "      <td>COBRANZA_INTELIGENTE_MX</td>\n",
       "      <td>5561408990</td>\n",
       "      <td>guadalupe.servin</td>\n",
       "      <td>0:00:06</td>\n",
       "      <td>0:00:14</td>\n",
       "      <td>M</td>\n",
       "      <td>GEM</td>\n",
       "    </tr>\n",
       "    <tr>\n",
       "      <th>1</th>\n",
       "      <td>6/27/2023 10:05</td>\n",
       "      <td>359213</td>\n",
       "      <td>COBRANZA_INTELIGENTE_MX</td>\n",
       "      <td>4611501750</td>\n",
       "      <td>guadalupe.servin</td>\n",
       "      <td>0:00:00</td>\n",
       "      <td>0:00:27</td>\n",
       "      <td>F</td>\n",
       "      <td>REGULAR</td>\n",
       "    </tr>\n",
       "    <tr>\n",
       "      <th>2</th>\n",
       "      <td>6/27/2023 10:07</td>\n",
       "      <td>524130</td>\n",
       "      <td>COBRANZA_INTELIGENTE_MX</td>\n",
       "      <td>4929272804</td>\n",
       "      <td>guadalupe.servin</td>\n",
       "      <td>0:00:00</td>\n",
       "      <td>0:00:18</td>\n",
       "      <td>NaN</td>\n",
       "      <td>GEM</td>\n",
       "    </tr>\n",
       "    <tr>\n",
       "      <th>3</th>\n",
       "      <td>6/27/2023 12:11</td>\n",
       "      <td>624903</td>\n",
       "      <td>COBRANZA_INTELIGENTE_MX</td>\n",
       "      <td>3231472175</td>\n",
       "      <td>guadalupe.servin</td>\n",
       "      <td>0:00:03</td>\n",
       "      <td>0:00:31</td>\n",
       "      <td>NaN</td>\n",
       "      <td>REGULAR</td>\n",
       "    </tr>\n",
       "    <tr>\n",
       "      <th>4</th>\n",
       "      <td>6/27/2023 10:09</td>\n",
       "      <td>724594</td>\n",
       "      <td>COBRANZA_INTELIGENTE_MX</td>\n",
       "      <td>9971345343</td>\n",
       "      <td>guadalupe.servin</td>\n",
       "      <td>0:00:00</td>\n",
       "      <td>0:00:23</td>\n",
       "      <td>F</td>\n",
       "      <td>REGULAR</td>\n",
       "    </tr>\n",
       "    <tr>\n",
       "      <th>...</th>\n",
       "      <td>...</td>\n",
       "      <td>...</td>\n",
       "      <td>...</td>\n",
       "      <td>...</td>\n",
       "      <td>...</td>\n",
       "      <td>...</td>\n",
       "      <td>...</td>\n",
       "      <td>...</td>\n",
       "      <td>...</td>\n",
       "    </tr>\n",
       "    <tr>\n",
       "      <th>1321</th>\n",
       "      <td>7/28/2023 13:45</td>\n",
       "      <td>1203959</td>\n",
       "      <td>pe_adq_welcome</td>\n",
       "      <td>931837126</td>\n",
       "      <td>glopez</td>\n",
       "      <td>0:07:11</td>\n",
       "      <td>0:07:20</td>\n",
       "      <td>F</td>\n",
       "      <td>GEM</td>\n",
       "    </tr>\n",
       "    <tr>\n",
       "      <th>1322</th>\n",
       "      <td>7/28/2023 13:41</td>\n",
       "      <td>1203822</td>\n",
       "      <td>pe_adq_welcome</td>\n",
       "      <td>974546959</td>\n",
       "      <td>glopez</td>\n",
       "      <td>0:00:22</td>\n",
       "      <td>0:01:20</td>\n",
       "      <td>M</td>\n",
       "      <td>GEM</td>\n",
       "    </tr>\n",
       "    <tr>\n",
       "      <th>1323</th>\n",
       "      <td>7/28/2023 15:58</td>\n",
       "      <td>1203280</td>\n",
       "      <td>pe_adq_welcome</td>\n",
       "      <td>999225038</td>\n",
       "      <td>glopez</td>\n",
       "      <td>0:04:18</td>\n",
       "      <td>0:04:21</td>\n",
       "      <td>M</td>\n",
       "      <td>GEM</td>\n",
       "    </tr>\n",
       "    <tr>\n",
       "      <th>1324</th>\n",
       "      <td>8/25/2023 13:17</td>\n",
       "      <td>1163602</td>\n",
       "      <td>mx_adq_onboarding</td>\n",
       "      <td>8311626972</td>\n",
       "      <td>pe_jascencio</td>\n",
       "      <td>0:00:09</td>\n",
       "      <td>0:00:19</td>\n",
       "      <td>M</td>\n",
       "      <td>REGULAR</td>\n",
       "    </tr>\n",
       "    <tr>\n",
       "      <th>1325</th>\n",
       "      <td>8/25/2023 11:48</td>\n",
       "      <td>1164338</td>\n",
       "      <td>mx_adq_onboarding</td>\n",
       "      <td>8134722684</td>\n",
       "      <td>pe_jascencio</td>\n",
       "      <td>0:04:18</td>\n",
       "      <td>0:04:49</td>\n",
       "      <td>NaN</td>\n",
       "      <td>REGULAR</td>\n",
       "    </tr>\n",
       "  </tbody>\n",
       "</table>\n",
       "<p>1326 rows × 9 columns</p>\n",
       "</div>"
      ],
      "text/plain": [
       "                Fecha  IDCliente                 Campania    Telefono  \\\n",
       "0     6/27/2023 13:22      46056  COBRANZA_INTELIGENTE_MX  5561408990   \n",
       "1     6/27/2023 10:05     359213  COBRANZA_INTELIGENTE_MX  4611501750   \n",
       "2     6/27/2023 10:07     524130  COBRANZA_INTELIGENTE_MX  4929272804   \n",
       "3     6/27/2023 12:11     624903  COBRANZA_INTELIGENTE_MX  3231472175   \n",
       "4     6/27/2023 10:09     724594  COBRANZA_INTELIGENTE_MX  9971345343   \n",
       "...               ...        ...                      ...         ...   \n",
       "1321  7/28/2023 13:45    1203959           pe_adq_welcome   931837126   \n",
       "1322  7/28/2023 13:41    1203822           pe_adq_welcome   974546959   \n",
       "1323  7/28/2023 15:58    1203280           pe_adq_welcome   999225038   \n",
       "1324  8/25/2023 13:17    1163602        mx_adq_onboarding  8311626972   \n",
       "1325  8/25/2023 11:48    1164338        mx_adq_onboarding  8134722684   \n",
       "\n",
       "                Agente Tiempohablado Tiempototal Gender     Type  \n",
       "0     guadalupe.servin       0:00:06     0:00:14      M      GEM  \n",
       "1     guadalupe.servin       0:00:00     0:00:27      F  REGULAR  \n",
       "2     guadalupe.servin       0:00:00     0:00:18    NaN      GEM  \n",
       "3     guadalupe.servin       0:00:03     0:00:31    NaN  REGULAR  \n",
       "4     guadalupe.servin       0:00:00     0:00:23      F  REGULAR  \n",
       "...                ...           ...         ...    ...      ...  \n",
       "1321            glopez       0:07:11     0:07:20      F      GEM  \n",
       "1322            glopez       0:00:22     0:01:20      M      GEM  \n",
       "1323            glopez       0:04:18     0:04:21      M      GEM  \n",
       "1324      pe_jascencio       0:00:09     0:00:19      M  REGULAR  \n",
       "1325      pe_jascencio       0:04:18     0:04:49    NaN  REGULAR  \n",
       "\n",
       "[1326 rows x 9 columns]"
      ]
     },
     "metadata": {},
     "output_type": "display_data"
    }
   ],
   "source": [
    "llamadas_customers_df = llamadas_data_df.join(customers_data_df.set_index('CustomerID'), on='IDCliente', how='left')\n",
    "\n",
    "display(llamadas_customers_df)"
   ]
  },
  {
   "cell_type": "code",
   "execution_count": 109,
   "metadata": {},
   "outputs": [
    {
     "data": {
      "text/plain": [
       "(253, 9)"
      ]
     },
     "execution_count": 109,
     "metadata": {},
     "output_type": "execute_result"
    }
   ],
   "source": [
    "llamadas_customers_df[llamadas_customers_df['Type'].isnull()].shape"
   ]
  },
  {
   "cell_type": "markdown",
   "metadata": {},
   "source": [
    "Conclusiones:\n",
    "- Tenemos 253 llamadas para las cuales el cliente es desconocido, de un total de 1326 llamadas. Si bien es posible que estas llamadas no sean útiles para analizar algunas métricas que puedan definirse, se mantienen en el dataset porque contienen datos relevantes.\n",
    "- Podemos utilizar el campo \"IDCliente\" del Dataset Llamadas como clave foránea al Dataset Customers. Enl campo utilizado en el segundo Dataset es su clave primaria."
   ]
  },
  {
   "cell_type": "markdown",
   "metadata": {},
   "source": [
    "### Logins y Canales Digitales"
   ]
  },
  {
   "cell_type": "code",
   "execution_count": 88,
   "metadata": {},
   "outputs": [
    {
     "data": {
      "text/html": [
       "<div>\n",
       "<style scoped>\n",
       "    .dataframe tbody tr th:only-of-type {\n",
       "        vertical-align: middle;\n",
       "    }\n",
       "\n",
       "    .dataframe tbody tr th {\n",
       "        vertical-align: top;\n",
       "    }\n",
       "\n",
       "    .dataframe thead th {\n",
       "        text-align: right;\n",
       "    }\n",
       "</style>\n",
       "<table border=\"1\" class=\"dataframe\">\n",
       "  <thead>\n",
       "    <tr style=\"text-align: right;\">\n",
       "      <th></th>\n",
       "      <th>callid</th>\n",
       "      <th>customerid</th>\n",
       "      <th>logindate</th>\n",
       "      <th>channel</th>\n",
       "      <th>desc_canal</th>\n",
       "    </tr>\n",
       "  </thead>\n",
       "  <tbody>\n",
       "    <tr>\n",
       "      <th>0</th>\n",
       "      <td>708</td>\n",
       "      <td>1133466</td>\n",
       "      <td>8/25/2023 15:32:00</td>\n",
       "      <td>1</td>\n",
       "      <td>Whatsapp</td>\n",
       "    </tr>\n",
       "    <tr>\n",
       "      <th>1</th>\n",
       "      <td>709</td>\n",
       "      <td>1133466</td>\n",
       "      <td>8/25/2023 15:26:49</td>\n",
       "      <td>2</td>\n",
       "      <td>AppCallCore</td>\n",
       "    </tr>\n",
       "    <tr>\n",
       "      <th>2</th>\n",
       "      <td>799</td>\n",
       "      <td>1163726</td>\n",
       "      <td>7/28/2023 14:08:44</td>\n",
       "      <td>2</td>\n",
       "      <td>AppCallCore</td>\n",
       "    </tr>\n",
       "    <tr>\n",
       "      <th>3</th>\n",
       "      <td>804</td>\n",
       "      <td>1164064</td>\n",
       "      <td>7/27/2023 10:32:28</td>\n",
       "      <td>1</td>\n",
       "      <td>Whatsapp</td>\n",
       "    </tr>\n",
       "    <tr>\n",
       "      <th>4</th>\n",
       "      <td>805</td>\n",
       "      <td>1164338</td>\n",
       "      <td>8/25/2023 12:44:02</td>\n",
       "      <td>2</td>\n",
       "      <td>AppCallCore</td>\n",
       "    </tr>\n",
       "    <tr>\n",
       "      <th>...</th>\n",
       "      <td>...</td>\n",
       "      <td>...</td>\n",
       "      <td>...</td>\n",
       "      <td>...</td>\n",
       "      <td>...</td>\n",
       "    </tr>\n",
       "    <tr>\n",
       "      <th>124</th>\n",
       "      <td>1080</td>\n",
       "      <td>1207045</td>\n",
       "      <td>8/28/2023 20:34:49</td>\n",
       "      <td>1</td>\n",
       "      <td>Whatsapp</td>\n",
       "    </tr>\n",
       "    <tr>\n",
       "      <th>125</th>\n",
       "      <td>1081</td>\n",
       "      <td>1207045</td>\n",
       "      <td>8/28/2023 20:36:45</td>\n",
       "      <td>1</td>\n",
       "      <td>Whatsapp</td>\n",
       "    </tr>\n",
       "    <tr>\n",
       "      <th>126</th>\n",
       "      <td>1082</td>\n",
       "      <td>1207045</td>\n",
       "      <td>8/28/2023 21:14:34</td>\n",
       "      <td>1</td>\n",
       "      <td>Whatsapp</td>\n",
       "    </tr>\n",
       "    <tr>\n",
       "      <th>127</th>\n",
       "      <td>1083</td>\n",
       "      <td>1207047</td>\n",
       "      <td>8/28/2023 18:13:13</td>\n",
       "      <td>2</td>\n",
       "      <td>AppCallCore</td>\n",
       "    </tr>\n",
       "    <tr>\n",
       "      <th>128</th>\n",
       "      <td>1085</td>\n",
       "      <td>1207056</td>\n",
       "      <td>8/28/2023 16:24:55</td>\n",
       "      <td>1</td>\n",
       "      <td>Whatsapp</td>\n",
       "    </tr>\n",
       "  </tbody>\n",
       "</table>\n",
       "<p>129 rows × 5 columns</p>\n",
       "</div>"
      ],
      "text/plain": [
       "     callid  customerid           logindate  channel   desc_canal\n",
       "0       708     1133466  8/25/2023 15:32:00        1     Whatsapp\n",
       "1       709     1133466  8/25/2023 15:26:49        2  AppCallCore\n",
       "2       799     1163726  7/28/2023 14:08:44        2  AppCallCore\n",
       "3       804     1164064  7/27/2023 10:32:28        1     Whatsapp\n",
       "4       805     1164338  8/25/2023 12:44:02        2  AppCallCore\n",
       "..      ...         ...                 ...      ...          ...\n",
       "124    1080     1207045  8/28/2023 20:34:49        1     Whatsapp\n",
       "125    1081     1207045  8/28/2023 20:36:45        1     Whatsapp\n",
       "126    1082     1207045  8/28/2023 21:14:34        1     Whatsapp\n",
       "127    1083     1207047  8/28/2023 18:13:13        2  AppCallCore\n",
       "128    1085     1207056  8/28/2023 16:24:55        1     Whatsapp\n",
       "\n",
       "[129 rows x 5 columns]"
      ]
     },
     "metadata": {},
     "output_type": "display_data"
    }
   ],
   "source": [
    "logins_canales_df = logins_data_df.join(canal_data_df.set_index('idcanal'), on='channel', how='left')\n",
    "\n",
    "display(logins_canales_df)"
   ]
  },
  {
   "cell_type": "code",
   "execution_count": 89,
   "metadata": {},
   "outputs": [
    {
     "data": {
      "text/plain": [
       "(0, 5)"
      ]
     },
     "execution_count": 89,
     "metadata": {},
     "output_type": "execute_result"
    }
   ],
   "source": [
    "logins_canales_df[logins_canales_df['desc_canal'].isnull().isnull()].shape"
   ]
  },
  {
   "cell_type": "markdown",
   "metadata": {},
   "source": [
    "Conclusiones:\n",
    "- Podemos utilizar el campo \"channel\" del Dataset Logins como clave foránea al Dataset Canales Digitales. Enl campo utilizado en el segundo Dataset es su clave primaria."
   ]
  },
  {
   "cell_type": "markdown",
   "metadata": {},
   "source": [
    "### Logins y Customers"
   ]
  },
  {
   "cell_type": "code",
   "execution_count": 90,
   "metadata": {},
   "outputs": [
    {
     "data": {
      "text/html": [
       "<div>\n",
       "<style scoped>\n",
       "    .dataframe tbody tr th:only-of-type {\n",
       "        vertical-align: middle;\n",
       "    }\n",
       "\n",
       "    .dataframe tbody tr th {\n",
       "        vertical-align: top;\n",
       "    }\n",
       "\n",
       "    .dataframe thead th {\n",
       "        text-align: right;\n",
       "    }\n",
       "</style>\n",
       "<table border=\"1\" class=\"dataframe\">\n",
       "  <thead>\n",
       "    <tr style=\"text-align: right;\">\n",
       "      <th></th>\n",
       "      <th>callid</th>\n",
       "      <th>customerid</th>\n",
       "      <th>logindate</th>\n",
       "      <th>channel</th>\n",
       "      <th>Gender</th>\n",
       "      <th>Type</th>\n",
       "    </tr>\n",
       "  </thead>\n",
       "  <tbody>\n",
       "    <tr>\n",
       "      <th>0</th>\n",
       "      <td>708</td>\n",
       "      <td>1133466</td>\n",
       "      <td>8/25/2023 15:32:00</td>\n",
       "      <td>1</td>\n",
       "      <td>F</td>\n",
       "      <td>REGULAR</td>\n",
       "    </tr>\n",
       "    <tr>\n",
       "      <th>1</th>\n",
       "      <td>709</td>\n",
       "      <td>1133466</td>\n",
       "      <td>8/25/2023 15:26:49</td>\n",
       "      <td>2</td>\n",
       "      <td>F</td>\n",
       "      <td>REGULAR</td>\n",
       "    </tr>\n",
       "    <tr>\n",
       "      <th>2</th>\n",
       "      <td>799</td>\n",
       "      <td>1163726</td>\n",
       "      <td>7/28/2023 14:08:44</td>\n",
       "      <td>2</td>\n",
       "      <td>M</td>\n",
       "      <td>REGULAR</td>\n",
       "    </tr>\n",
       "    <tr>\n",
       "      <th>3</th>\n",
       "      <td>804</td>\n",
       "      <td>1164064</td>\n",
       "      <td>7/27/2023 10:32:28</td>\n",
       "      <td>1</td>\n",
       "      <td>NaN</td>\n",
       "      <td>REGULAR</td>\n",
       "    </tr>\n",
       "    <tr>\n",
       "      <th>4</th>\n",
       "      <td>805</td>\n",
       "      <td>1164338</td>\n",
       "      <td>8/25/2023 12:44:02</td>\n",
       "      <td>2</td>\n",
       "      <td>NaN</td>\n",
       "      <td>REGULAR</td>\n",
       "    </tr>\n",
       "    <tr>\n",
       "      <th>...</th>\n",
       "      <td>...</td>\n",
       "      <td>...</td>\n",
       "      <td>...</td>\n",
       "      <td>...</td>\n",
       "      <td>...</td>\n",
       "      <td>...</td>\n",
       "    </tr>\n",
       "    <tr>\n",
       "      <th>124</th>\n",
       "      <td>1080</td>\n",
       "      <td>1207045</td>\n",
       "      <td>8/28/2023 20:34:49</td>\n",
       "      <td>1</td>\n",
       "      <td>F</td>\n",
       "      <td>GEM</td>\n",
       "    </tr>\n",
       "    <tr>\n",
       "      <th>125</th>\n",
       "      <td>1081</td>\n",
       "      <td>1207045</td>\n",
       "      <td>8/28/2023 20:36:45</td>\n",
       "      <td>1</td>\n",
       "      <td>F</td>\n",
       "      <td>GEM</td>\n",
       "    </tr>\n",
       "    <tr>\n",
       "      <th>126</th>\n",
       "      <td>1082</td>\n",
       "      <td>1207045</td>\n",
       "      <td>8/28/2023 21:14:34</td>\n",
       "      <td>1</td>\n",
       "      <td>F</td>\n",
       "      <td>GEM</td>\n",
       "    </tr>\n",
       "    <tr>\n",
       "      <th>127</th>\n",
       "      <td>1083</td>\n",
       "      <td>1207047</td>\n",
       "      <td>8/28/2023 18:13:13</td>\n",
       "      <td>2</td>\n",
       "      <td>F</td>\n",
       "      <td>REGULAR</td>\n",
       "    </tr>\n",
       "    <tr>\n",
       "      <th>128</th>\n",
       "      <td>1085</td>\n",
       "      <td>1207056</td>\n",
       "      <td>8/28/2023 16:24:55</td>\n",
       "      <td>1</td>\n",
       "      <td>NaN</td>\n",
       "      <td>GEM</td>\n",
       "    </tr>\n",
       "  </tbody>\n",
       "</table>\n",
       "<p>129 rows × 6 columns</p>\n",
       "</div>"
      ],
      "text/plain": [
       "     callid  customerid           logindate  channel Gender     Type\n",
       "0       708     1133466  8/25/2023 15:32:00        1      F  REGULAR\n",
       "1       709     1133466  8/25/2023 15:26:49        2      F  REGULAR\n",
       "2       799     1163726  7/28/2023 14:08:44        2      M  REGULAR\n",
       "3       804     1164064  7/27/2023 10:32:28        1    NaN  REGULAR\n",
       "4       805     1164338  8/25/2023 12:44:02        2    NaN  REGULAR\n",
       "..      ...         ...                 ...      ...    ...      ...\n",
       "124    1080     1207045  8/28/2023 20:34:49        1      F      GEM\n",
       "125    1081     1207045  8/28/2023 20:36:45        1      F      GEM\n",
       "126    1082     1207045  8/28/2023 21:14:34        1      F      GEM\n",
       "127    1083     1207047  8/28/2023 18:13:13        2      F  REGULAR\n",
       "128    1085     1207056  8/28/2023 16:24:55        1    NaN      GEM\n",
       "\n",
       "[129 rows x 6 columns]"
      ]
     },
     "metadata": {},
     "output_type": "display_data"
    }
   ],
   "source": [
    "logins_customers_df = logins_data_df.join(customers_data_df.set_index('CustomerID'), on='customerid', how='left')\n",
    "\n",
    "display(logins_customers_df)"
   ]
  },
  {
   "cell_type": "code",
   "execution_count": 91,
   "metadata": {},
   "outputs": [
    {
     "data": {
      "text/plain": [
       "(0, 6)"
      ]
     },
     "execution_count": 91,
     "metadata": {},
     "output_type": "execute_result"
    }
   ],
   "source": [
    "logins_customers_df[logins_customers_df['Type'].isnull().isnull()].shape"
   ]
  },
  {
   "cell_type": "markdown",
   "metadata": {},
   "source": [
    "Conclusiones:\n",
    "- Podemos utilizar el campo \"customerid\" del Dataset Logins como clave foránea al Dataset Customers. Enl campo utilizado en el segundo Dataset es su clave primaria."
   ]
  },
  {
   "cell_type": "markdown",
   "metadata": {},
   "source": [
    "## Análisis de fecha en datos de Facts"
   ]
  },
  {
   "cell_type": "markdown",
   "metadata": {},
   "source": [
    "### Llamadas"
   ]
  },
  {
   "cell_type": "markdown",
   "metadata": {},
   "source": [
    "#### Cantidad de valores diferentes"
   ]
  },
  {
   "cell_type": "code",
   "execution_count": 92,
   "metadata": {},
   "outputs": [
    {
     "data": {
      "text/plain": [
       "'Fecha y hora: 1007'"
      ]
     },
     "metadata": {},
     "output_type": "display_data"
    },
    {
     "data": {
      "text/plain": [
       "'Fecha: 7'"
      ]
     },
     "metadata": {},
     "output_type": "display_data"
    }
   ],
   "source": [
    "display(\"Fecha y hora: \" + str(llamadas_data_df.nunique()[\"Fecha\"]))\n",
    "\n",
    "llamadas_data_df[\"Solo Fecha\"] = llamadas_data_df[\"Fecha\"].str[:10]\n",
    "display(\"Fecha: \" + str(llamadas_data_df.nunique()[\"Solo Fecha\"]))"
   ]
  },
  {
   "cell_type": "markdown",
   "metadata": {},
   "source": [
    "#### Lista de valores diferentes"
   ]
  },
  {
   "cell_type": "code",
   "execution_count": 93,
   "metadata": {},
   "outputs": [
    {
     "data": {
      "text/plain": [
       "array(['6/27/2023 ', '6/28/2023 ', '7/25/2023 ', '7/27/2023 ',\n",
       "       '7/28/2023 ', '8/25/2023 ', '8/28/2023 '], dtype=object)"
      ]
     },
     "metadata": {},
     "output_type": "display_data"
    },
    {
     "data": {
      "text/plain": [
       "'6/27/2023 10:00'"
      ]
     },
     "metadata": {},
     "output_type": "display_data"
    },
    {
     "data": {
      "text/plain": [
       "'8/28/2023 9:57'"
      ]
     },
     "metadata": {},
     "output_type": "display_data"
    }
   ],
   "source": [
    "display(llamadas_data_df[\"Solo Fecha\"].unique())\n",
    "display(llamadas_data_df[\"Fecha\"].min())\n",
    "display(llamadas_data_df[\"Fecha\"].max())"
   ]
  }
 ],
 "metadata": {
  "kernelspec": {
   "display_name": "call_center_env",
   "language": "python",
   "name": "python3"
  },
  "language_info": {
   "codemirror_mode": {
    "name": "ipython",
    "version": 3
   },
   "file_extension": ".py",
   "mimetype": "text/x-python",
   "name": "python",
   "nbconvert_exporter": "python",
   "pygments_lexer": "ipython3",
   "version": "3.10.14"
  }
 },
 "nbformat": 4,
 "nbformat_minor": 2
}
